{
 "cells": [
  {
   "cell_type": "code",
   "execution_count": 1,
   "metadata": {},
   "outputs": [
    {
     "name": "stderr",
     "output_type": "stream",
     "text": [
      "Using TensorFlow backend.\n"
     ]
    }
   ],
   "source": [
    "# Importing the necessary libraries\n",
    "import tensorflow as tf\n",
    "from tensorflow import keras\n",
    "\n",
    "import numpy as np\n",
    "import pandas as pd\n",
    "import os\n",
    "import sys\n",
    "import matplotlib.pyplot as plt\n",
    "%matplotlib inline\n",
    "\n",
    "import time\n",
    "import scipy\n",
    "import numpy as np\n",
    "from PIL import Image\n",
    "\n",
    "from scipy import ndimage\n",
    "from keras.preprocessing.image import ImageDataGenerator, array_to_img, img_to_array, load_img\n",
    "\n",
    "np.random.seed(123)"
   ]
  },
  {
   "cell_type": "code",
   "execution_count": 2,
   "metadata": {},
   "outputs": [],
   "source": [
    "# set file path for x-ray\n",
    "test_folder = 'data/test'\n",
    "train_folder = 'data/train'\n",
    "val_folder = 'data/val'"
   ]
  },
  {
   "cell_type": "code",
   "execution_count": 3,
   "metadata": {},
   "outputs": [
    {
     "name": "stdout",
     "output_type": "stream",
     "text": [
      "Found 624 images belonging to 2 classes.\n",
      "Found 16 images belonging to 2 classes.\n",
      "Found 5216 images belonging to 2 classes.\n"
     ]
    }
   ],
   "source": [
    "# get all the data in the directory split/test (180 images), and reshape them\n",
    "test_generator = ImageDataGenerator(rescale=1./255).flow_from_directory(test_folder, \n",
    "        target_size=(64, 64), batch_size = 624 ) \n",
    "\n",
    "# get all the data in the directory split/validation (200 images), and reshape them\n",
    "val_generator = ImageDataGenerator(rescale=1./255).flow_from_directory(val_folder, \n",
    "        target_size=(64, 64), batch_size = 16)\n",
    "\n",
    "# get all the data in the directory split/train (542 images), and reshape them\n",
    "train_generator = ImageDataGenerator(rescale=1./255).flow_from_directory(train_folder, \n",
    "        target_size=(64, 64), batch_size = 5216)"
   ]
  },
  {
   "cell_type": "code",
   "execution_count": 4,
   "metadata": {},
   "outputs": [],
   "source": [
    "train_images, train_labels = next(train_generator)\n",
    "test_images, test_labels = next(test_generator)\n",
    "val_images, val_labels = next(val_generator)"
   ]
  },
  {
   "cell_type": "code",
   "execution_count": 5,
   "metadata": {},
   "outputs": [
    {
     "name": "stdout",
     "output_type": "stream",
     "text": [
      "[[1. 0.]\n",
      " [0. 1.]\n",
      " [0. 1.]\n",
      " ...\n",
      " [0. 1.]\n",
      " [0. 1.]\n",
      " [0. 1.]]\n"
     ]
    }
   ],
   "source": [
    "print(train_labels)"
   ]
  },
  {
   "cell_type": "code",
   "execution_count": 6,
   "metadata": {},
   "outputs": [
    {
     "name": "stdout",
     "output_type": "stream",
     "text": [
      "Number of training samples: 5216\n",
      "Number of testing samples: 624\n",
      "Number of validation samples: 16\n",
      "train_images shape: (5216, 64, 64, 3)\n",
      "train_labels shape: (5216, 2)\n",
      "test_images shape: (624, 64, 64, 3)\n",
      "test_labels shape: (624, 2)\n",
      "val_images shape: (16, 64, 64, 3)\n",
      "val_labels shape: (16, 2)\n"
     ]
    }
   ],
   "source": [
    "# Explore your dataset again\n",
    "m_train = train_images.shape[0]\n",
    "num_px = train_images.shape[1]\n",
    "m_test = test_images.shape[0]\n",
    "m_val = val_images.shape[0]\n",
    "\n",
    "print (\"Number of training samples: \" + str(m_train))\n",
    "print (\"Number of testing samples: \" + str(m_test))\n",
    "print (\"Number of validation samples: \" + str(m_val))\n",
    "print (\"train_images shape: \" + str(train_images.shape))\n",
    "print (\"train_labels shape: \" + str(train_labels.shape))\n",
    "print (\"test_images shape: \" + str(test_images.shape))\n",
    "print (\"test_labels shape: \" + str(test_labels.shape))\n",
    "print (\"val_images shape: \" + str(val_images.shape))\n",
    "print (\"val_labels shape: \" + str(val_labels.shape))"
   ]
  },
  {
   "cell_type": "code",
   "execution_count": 7,
   "metadata": {},
   "outputs": [
    {
     "name": "stdout",
     "output_type": "stream",
     "text": [
      "(5216, 12288)\n",
      "(624, 12288)\n",
      "(16, 12288)\n"
     ]
    }
   ],
   "source": [
    "train_img = train_images.reshape(train_images.shape[0], -1)\n",
    "test_img = test_images.reshape(test_images.shape[0], -1)\n",
    "val_img = val_images.reshape(val_images.shape[0], -1)\n",
    "\n",
    "print(train_img.shape)\n",
    "print(test_img.shape)\n",
    "print(val_img.shape)"
   ]
  },
  {
   "cell_type": "code",
   "execution_count": 8,
   "metadata": {},
   "outputs": [],
   "source": [
    "\n",
    "train_y = np.reshape(train_labels[:,0], (5216,1))\n",
    "test_y = np.reshape(test_labels[:,0], (624,1))\n",
    "val_y = np.reshape(val_labels[:,0], (16,1))"
   ]
  },
  {
   "cell_type": "code",
   "execution_count": 9,
   "metadata": {},
   "outputs": [],
   "source": [
    "#Baseline model"
   ]
  },
  {
   "cell_type": "code",
   "execution_count": 10,
   "metadata": {},
   "outputs": [],
   "source": [
    "# Importing the libraries for modeling\n",
    "from keras.preprocessing.image import ImageDataGenerator"
   ]
  },
  {
   "cell_type": "code",
   "execution_count": 11,
   "metadata": {},
   "outputs": [],
   "source": [
    "# Build a baseline fully connected model\n",
    "from keras import models\n",
    "from keras import layers\n",
    "np.random.seed(123)\n",
    "baseline = models.Sequential()\n",
    "baseline.add(layers.Dense(20, activation='relu', input_shape=(12288,))) # 2 hidden layers\n",
    "baseline.add(layers.Dense(7, activation='relu'))\n",
    "baseline.add(layers.Dense(5, activation='relu'))\n",
    "baseline.add(layers.Dense(1, activation='sigmoid'))"
   ]
  },
  {
   "cell_type": "code",
   "execution_count": 12,
   "metadata": {
    "scrolled": true
   },
   "outputs": [
    {
     "name": "stdout",
     "output_type": "stream",
     "text": [
      "Train on 5216 samples, validate on 16 samples\n",
      "Epoch 1/20\n",
      "5216/5216 [==============================] - 2s 400us/step - loss: 0.4246 - accuracy: 0.8085 - val_loss: 0.6164 - val_accuracy: 0.7500\n",
      "Epoch 2/20\n",
      "5216/5216 [==============================] - 1s 228us/step - loss: 0.2656 - accuracy: 0.8923 - val_loss: 0.4456 - val_accuracy: 0.8125\n",
      "Epoch 3/20\n",
      "5216/5216 [==============================] - 2s 403us/step - loss: 0.2024 - accuracy: 0.9225 - val_loss: 0.5388 - val_accuracy: 0.8125\n",
      "Epoch 4/20\n",
      "5216/5216 [==============================] - 1s 264us/step - loss: 0.1831 - accuracy: 0.9262 - val_loss: 0.8253 - val_accuracy: 0.6250\n",
      "Epoch 5/20\n",
      "5216/5216 [==============================] - 2s 337us/step - loss: 0.1654 - accuracy: 0.9329 - val_loss: 1.0173 - val_accuracy: 0.6250\n",
      "Epoch 6/20\n",
      "5216/5216 [==============================] - 1s 221us/step - loss: 0.1469 - accuracy: 0.9431 - val_loss: 0.3601 - val_accuracy: 0.8750\n",
      "Epoch 7/20\n",
      "5216/5216 [==============================] - 1s 235us/step - loss: 0.1365 - accuracy: 0.9467 - val_loss: 0.2392 - val_accuracy: 0.9375\n",
      "Epoch 8/20\n",
      "5216/5216 [==============================] - 1s 237us/step - loss: 0.1407 - accuracy: 0.9454 - val_loss: 0.2333 - val_accuracy: 0.9375\n",
      "Epoch 9/20\n",
      "5216/5216 [==============================] - 1s 210us/step - loss: 0.1360 - accuracy: 0.9471 - val_loss: 0.2223 - val_accuracy: 0.9375\n",
      "Epoch 10/20\n",
      "5216/5216 [==============================] - 1s 197us/step - loss: 0.1380 - accuracy: 0.9459 - val_loss: 1.0522 - val_accuracy: 0.6250\n",
      "Epoch 11/20\n",
      "5216/5216 [==============================] - 2s 327us/step - loss: 0.1300 - accuracy: 0.9507 - val_loss: 0.4801 - val_accuracy: 0.8125\n",
      "Epoch 12/20\n",
      "5216/5216 [==============================] - 1s 223us/step - loss: 0.1183 - accuracy: 0.9551 - val_loss: 0.8682 - val_accuracy: 0.6875\n",
      "Epoch 13/20\n",
      "5216/5216 [==============================] - 1s 188us/step - loss: 0.1251 - accuracy: 0.9525 - val_loss: 0.9466 - val_accuracy: 0.6250\n",
      "Epoch 14/20\n",
      "5216/5216 [==============================] - 1s 179us/step - loss: 0.1236 - accuracy: 0.9536 - val_loss: 0.2822 - val_accuracy: 0.9375\n",
      "Epoch 15/20\n",
      "5216/5216 [==============================] - 1s 178us/step - loss: 0.1170 - accuracy: 0.9555 - val_loss: 0.2229 - val_accuracy: 0.9375\n",
      "Epoch 16/20\n",
      "5216/5216 [==============================] - 1s 177us/step - loss: 0.1189 - accuracy: 0.9561 - val_loss: 0.5533 - val_accuracy: 0.7500\n",
      "Epoch 17/20\n",
      "5216/5216 [==============================] - 1s 214us/step - loss: 0.1116 - accuracy: 0.9599 - val_loss: 0.4251 - val_accuracy: 0.8125\n",
      "Epoch 18/20\n",
      "5216/5216 [==============================] - 1s 224us/step - loss: 0.1091 - accuracy: 0.9582 - val_loss: 0.6398 - val_accuracy: 0.6875\n",
      "Epoch 19/20\n",
      "5216/5216 [==============================] - 1s 233us/step - loss: 0.1124 - accuracy: 0.9574 - val_loss: 0.6618 - val_accuracy: 0.6875\n",
      "Epoch 20/20\n",
      "5216/5216 [==============================] - 1s 226us/step - loss: 0.1100 - accuracy: 0.9586 - val_loss: 0.1843 - val_accuracy: 0.9375\n"
     ]
    }
   ],
   "source": [
    "baseline.compile(optimizer='sgd',\n",
    "              loss='binary_crossentropy',\n",
    "              metrics=['accuracy'])\n",
    "\n",
    "history = baseline.fit(train_img,\n",
    "                    train_y,\n",
    "                    epochs=20,\n",
    "                    batch_size=16,\n",
    "                    validation_data=(val_img, val_y), verbose = 1)"
   ]
  },
  {
   "cell_type": "code",
   "execution_count": 13,
   "metadata": {},
   "outputs": [
    {
     "name": "stdout",
     "output_type": "stream",
     "text": [
      "5216/5216 [==============================] - 0s 80us/step\n"
     ]
    }
   ],
   "source": [
    "results_train = baseline.evaluate(train_img, train_y)"
   ]
  },
  {
   "cell_type": "code",
   "execution_count": 14,
   "metadata": {},
   "outputs": [
    {
     "data": {
      "text/plain": [
       "[0.12208872864399951, 0.9516870975494385]"
      ]
     },
     "execution_count": 14,
     "metadata": {},
     "output_type": "execute_result"
    }
   ],
   "source": [
    "\n",
    "results_train"
   ]
  },
  {
   "cell_type": "code",
   "execution_count": 15,
   "metadata": {},
   "outputs": [
    {
     "name": "stdout",
     "output_type": "stream",
     "text": [
      "\r",
      "16/16 [==============================] - 0s 115us/step\n"
     ]
    }
   ],
   "source": [
    "results_val = baseline.evaluate(val_img, val_y)"
   ]
  },
  {
   "cell_type": "code",
   "execution_count": 16,
   "metadata": {},
   "outputs": [
    {
     "data": {
      "text/plain": [
       "[0.18429481983184814, 0.9375]"
      ]
     },
     "execution_count": 16,
     "metadata": {},
     "output_type": "execute_result"
    }
   ],
   "source": [
    "results_val"
   ]
  },
  {
   "cell_type": "code",
   "execution_count": 17,
   "metadata": {},
   "outputs": [
    {
     "name": "stdout",
     "output_type": "stream",
     "text": [
      "Model: \"sequential_1\"\n",
      "_________________________________________________________________\n",
      "Layer (type)                 Output Shape              Param #   \n",
      "=================================================================\n",
      "dense_1 (Dense)              (None, 20)                245780    \n",
      "_________________________________________________________________\n",
      "dense_2 (Dense)              (None, 7)                 147       \n",
      "_________________________________________________________________\n",
      "dense_3 (Dense)              (None, 5)                 40        \n",
      "_________________________________________________________________\n",
      "dense_4 (Dense)              (None, 1)                 6         \n",
      "=================================================================\n",
      "Total params: 245,973\n",
      "Trainable params: 245,973\n",
      "Non-trainable params: 0\n",
      "_________________________________________________________________\n"
     ]
    }
   ],
   "source": [
    "baseline.summary()"
   ]
  },
  {
   "cell_type": "code",
   "execution_count": 19,
   "metadata": {},
   "outputs": [
    {
     "data": {
      "text/plain": [
       "{'val_loss': [0.6163514256477356,\n",
       "  0.44555485248565674,\n",
       "  0.5388286113739014,\n",
       "  0.8253260254859924,\n",
       "  1.017345666885376,\n",
       "  0.360135555267334,\n",
       "  0.23922839760780334,\n",
       "  0.2332519292831421,\n",
       "  0.22228369116783142,\n",
       "  1.0521509647369385,\n",
       "  0.48009437322616577,\n",
       "  0.8681616187095642,\n",
       "  0.9466309547424316,\n",
       "  0.28224873542785645,\n",
       "  0.22288398444652557,\n",
       "  0.5532747507095337,\n",
       "  0.42511510848999023,\n",
       "  0.6398032903671265,\n",
       "  0.6617944240570068,\n",
       "  0.18429481983184814],\n",
       " 'val_accuracy': [0.75,\n",
       "  0.8125,\n",
       "  0.8125,\n",
       "  0.625,\n",
       "  0.625,\n",
       "  0.875,\n",
       "  0.9375,\n",
       "  0.9375,\n",
       "  0.9375,\n",
       "  0.625,\n",
       "  0.8125,\n",
       "  0.6875,\n",
       "  0.625,\n",
       "  0.9375,\n",
       "  0.9375,\n",
       "  0.75,\n",
       "  0.8125,\n",
       "  0.6875,\n",
       "  0.6875,\n",
       "  0.9375],\n",
       " 'loss': [0.4245501087258564,\n",
       "  0.2655543124680322,\n",
       "  0.20236456087373333,\n",
       "  0.18310413762150002,\n",
       "  0.16540977523656436,\n",
       "  0.14689537861235896,\n",
       "  0.1364670042305659,\n",
       "  0.14065349047597886,\n",
       "  0.1360034174414386,\n",
       "  0.13801269258581034,\n",
       "  0.1300405627745061,\n",
       "  0.11830079751632011,\n",
       "  0.12509216929563075,\n",
       "  0.12355771181430736,\n",
       "  0.11696702064346362,\n",
       "  0.11886507405919462,\n",
       "  0.11157048412775793,\n",
       "  0.1091206631576071,\n",
       "  0.11243895248887044,\n",
       "  0.11003061920687258],\n",
       " 'accuracy': [0.80847394,\n",
       "  0.8922546,\n",
       "  0.922546,\n",
       "  0.92618865,\n",
       "  0.93289876,\n",
       "  0.9430598,\n",
       "  0.9467025,\n",
       "  0.9453604,\n",
       "  0.9470859,\n",
       "  0.9459356,\n",
       "  0.95072854,\n",
       "  0.955138,\n",
       "  0.952454,\n",
       "  0.9536043,\n",
       "  0.95552146,\n",
       "  0.95609665,\n",
       "  0.95993096,\n",
       "  0.9582055,\n",
       "  0.95743865,\n",
       "  0.95858896]}"
      ]
     },
     "execution_count": 19,
     "metadata": {},
     "output_type": "execute_result"
    }
   ],
   "source": [
    "history.history"
   ]
  },
  {
   "cell_type": "code",
   "execution_count": 25,
   "metadata": {},
   "outputs": [
    {
     "data": {
      "text/plain": [
       "<keras.layers.core.Dense at 0x15182d950>"
      ]
     },
     "execution_count": 25,
     "metadata": {},
     "output_type": "execute_result"
    }
   ],
   "source": [
    "\n",
    "baseline.layers[0]"
   ]
  },
  {
   "cell_type": "code",
   "execution_count": 26,
   "metadata": {},
   "outputs": [
    {
     "name": "stdout",
     "output_type": "stream",
     "text": [
      "3\n"
     ]
    }
   ],
   "source": [
    "baseline.pop()\n",
    "print(len(baseline.layers))"
   ]
  },
  {
   "cell_type": "code",
   "execution_count": 29,
   "metadata": {},
   "outputs": [
    {
     "data": {
      "text/plain": [
       "[<tf.Variable 'dense_1/kernel:0' shape=(12288, 20) dtype=float32, numpy=\n",
       " array([[ 0.00372605, -0.01118482,  0.01275494, ..., -0.02228718,\n",
       "         -0.01478739,  0.00345732],\n",
       "        [-0.01972964,  0.01270043,  0.00563179, ..., -0.00154435,\n",
       "          0.00709551, -0.00606644],\n",
       "        [-0.00217308, -0.00744307,  0.00175725, ..., -0.02206127,\n",
       "          0.00560648,  0.00336778],\n",
       "        ...,\n",
       "        [ 0.00614996, -0.00646607,  0.00014355, ..., -0.01663862,\n",
       "         -0.01019997, -0.00110065],\n",
       "        [ 0.00607884, -0.00339909,  0.00136689, ..., -0.01568427,\n",
       "         -0.00480423, -0.00947611],\n",
       "        [-0.00647677, -0.00545094, -0.01248519, ..., -0.00137382,\n",
       "         -0.01809815, -0.01067608]], dtype=float32)>,\n",
       " <tf.Variable 'dense_1/bias:0' shape=(20,) dtype=float32, numpy=\n",
       " array([ 4.3965777e-04, -9.5470739e-04, -2.7143717e-04, -7.9567508e-05,\n",
       "         8.2918033e-03, -4.2236134e-04, -1.4941572e-05, -1.2836424e-06,\n",
       "         0.0000000e+00,  9.6821766e-03,  0.0000000e+00, -4.2283253e-04,\n",
       "        -2.9675974e-04,  2.9353676e-03,  8.7914076e-03,  1.9751752e-02,\n",
       "        -2.1046179e-04, -4.8808260e-03, -4.5132963e-04,  1.0187850e-02],\n",
       "       dtype=float32)>]"
      ]
     },
     "execution_count": 29,
     "metadata": {},
     "output_type": "execute_result"
    }
   ],
   "source": [
    "baseline.layers[0].weights "
   ]
  },
  {
   "cell_type": "code",
   "execution_count": 30,
   "metadata": {},
   "outputs": [],
   "source": [
    "def visualize_training_results(results):\n",
    "    history = results.history\n",
    "    plt.figure()\n",
    "    plt.plot(history['val_loss'])\n",
    "    plt.plot(history['loss'])\n",
    "    plt.legend(['val_loss', 'loss'])\n",
    "    plt.title('Loss')\n",
    "    plt.xlabel('Epochs')\n",
    "    plt.ylabel('Loss')\n",
    "    plt.show()\n",
    "    \n",
    "    plt.figure()\n",
    "    plt.plot(history['val_acc'])\n",
    "    plt.plot(history['acc'])\n",
    "    plt.legend(['val_acc', 'acc'])\n",
    "    plt.title('Accuracy')\n",
    "    plt.xlabel('Epochs')\n",
    "    plt.ylabel('Accuracy')\n",
    "    plt.show()"
   ]
  },
  {
   "cell_type": "code",
   "execution_count": 33,
   "metadata": {},
   "outputs": [
    {
     "data": {
      "image/png": "[encoded data removed]",
      "text/plain": [
       "<Figure size 432x288 with 1 Axes>"
      ]
     },
     "metadata": {
      "needs_background": "light"
     },
     "output_type": "display_data"
    },
    {
     "ename": "KeyError",
     "evalue": "'val_acc'",
     "output_type": "error",
     "traceback": [
      "\u001b[0;31m---------------------------------------------------------------------------\u001b[0m",
      "\u001b[0;31mKeyError\u001b[0m                                  Traceback (most recent call last)",
      "\u001b[0;32m<ipython-input-33-77ff5c11e983>\u001b[0m in \u001b[0;36m<module>\u001b[0;34m\u001b[0m\n\u001b[0;32m----> 1\u001b[0;31m \u001b[0mvisualize_training_results\u001b[0m\u001b[0;34m(\u001b[0m\u001b[0mhistory\u001b[0m\u001b[0;34m)\u001b[0m\u001b[0;34m\u001b[0m\u001b[0;34m\u001b[0m\u001b[0m\n\u001b[0m",
      "\u001b[0;32m<ipython-input-30-44fa1ef4cef4>\u001b[0m in \u001b[0;36mvisualize_training_results\u001b[0;34m(results)\u001b[0m\n\u001b[1;32m     11\u001b[0m \u001b[0;34m\u001b[0m\u001b[0m\n\u001b[1;32m     12\u001b[0m     \u001b[0mplt\u001b[0m\u001b[0;34m.\u001b[0m\u001b[0mfigure\u001b[0m\u001b[0;34m(\u001b[0m\u001b[0;34m)\u001b[0m\u001b[0;34m\u001b[0m\u001b[0;34m\u001b[0m\u001b[0m\n\u001b[0;32m---> 13\u001b[0;31m     \u001b[0mplt\u001b[0m\u001b[0;34m.\u001b[0m\u001b[0mplot\u001b[0m\u001b[0;34m(\u001b[0m\u001b[0mhistory\u001b[0m\u001b[0;34m[\u001b[0m\u001b[0;34m'val_acc'\u001b[0m\u001b[0;34m]\u001b[0m\u001b[0;34m)\u001b[0m\u001b[0;34m\u001b[0m\u001b[0;34m\u001b[0m\u001b[0m\n\u001b[0m\u001b[1;32m     14\u001b[0m     \u001b[0mplt\u001b[0m\u001b[0;34m.\u001b[0m\u001b[0mplot\u001b[0m\u001b[0;34m(\u001b[0m\u001b[0mhistory\u001b[0m\u001b[0;34m[\u001b[0m\u001b[0;34m'acc'\u001b[0m\u001b[0;34m]\u001b[0m\u001b[0;34m)\u001b[0m\u001b[0;34m\u001b[0m\u001b[0;34m\u001b[0m\u001b[0m\n\u001b[1;32m     15\u001b[0m     \u001b[0mplt\u001b[0m\u001b[0;34m.\u001b[0m\u001b[0mlegend\u001b[0m\u001b[0;34m(\u001b[0m\u001b[0;34m[\u001b[0m\u001b[0;34m'val_acc'\u001b[0m\u001b[0;34m,\u001b[0m \u001b[0;34m'acc'\u001b[0m\u001b[0;34m]\u001b[0m\u001b[0;34m)\u001b[0m\u001b[0;34m\u001b[0m\u001b[0;34m\u001b[0m\u001b[0m\n",
      "\u001b[0;31mKeyError\u001b[0m: 'val_acc'"
     ]
    },
    {
     "data": {
      "text/plain": [
       "<Figure size 432x288 with 0 Axes>"
      ]
     },
     "metadata": {},
     "output_type": "display_data"
    }
   ],
   "source": [
    "visualize_training_results(history)"
   ]
  },
  {
   "cell_type": "code",
   "execution_count": null,
   "metadata": {},
   "outputs": [],
   "source": []
  },
  {
   "cell_type": "code",
   "execution_count": 18,
   "metadata": {},
   "outputs": [
    {
     "name": "stdout",
     "output_type": "stream",
     "text": [
      "Requirement already satisfied: pillow in /Users/marigaldina/opt/anaconda3/lib/python3.7/site-packages (6.2.0)\r\n"
     ]
    }
   ],
   "source": [
    "# when I don't have library\n",
    "#import sys\n",
    "#!{sys.executable} -m pip install pillow"
   ]
  }
 ],
 "metadata": {
  "kernelspec": {
   "display_name": "Python 3",
   "language": "python",
   "name": "python3"
  },
  "language_info": {
   "codemirror_mode": {
    "name": "ipython",
    "version": 3
   },
   "file_extension": ".py",
   "mimetype": "text/x-python",
   "name": "python",
   "nbconvert_exporter": "python",
   "pygments_lexer": "ipython3",
   "version": "3.7.4"
  }
 },
 "nbformat": 4,
 "nbformat_minor": 2
}
